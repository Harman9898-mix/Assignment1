{
 "cells": [
  {
   "cell_type": "code",
   "execution_count": 47,
   "id": "0ab2be1d-1696-4437-909d-74c4f4c16629",
   "metadata": {},
   "outputs": [
    {
     "data": {
      "text/plain": [
       "[25, 2, 50, 4]"
      ]
     },
     "execution_count": 47,
     "metadata": {},
     "output_type": "execute_result"
    }
   ],
   "source": [
    "#Q1 Explain key features of python that make it popular choice of programming?\n",
    "# Ans. there are some Key features of python that make it popular choice for programming:-\n",
    "# 1. Python is free to use and distribiute and is supported by community.\n",
    "# 2. Python interpreter is avaiable for every major platform.\n",
    "# 3. Python programs run unchanged on most platforms.\n",
    "# 4. Python runs on every major platforms currently in use.\n",
    "# 5. Vast collection of third party libraies.\n",
    "\n",
    "#Q2 Describe the role of predefined keyword and provide example of how they are used in python?\n",
    "# Ans. Here the some example of predefined keywords:-\n",
    "# False  await   else    import  pass\n",
    "# None   break   except  in      raise\n",
    "# True   class   finally is      return\n",
    "# and    continue for    lambda  try\n",
    "# as     def     from    nonlocal while\n",
    "# assert del     global  not      with\n",
    "# async  elif    if      or       yield\n",
    "\n",
    "#Q3 Compare and contrast of mutable and immutable objects in python with example?\n",
    "# Ans. Mutable:- Mutable objects are those objects whose values can be change.\n",
    "# Example:- list, set, dictionary.\n",
    "# List\n",
    "li= [1, 2, 3 , 4]\n",
    "li[0]= 25\n",
    "li[2]= 50\n",
    "li"
   ]
  },
  {
   "cell_type": "code",
   "execution_count": 37,
   "id": "7fedcdc6-7954-40d3-b6be-fe4ced29214e",
   "metadata": {},
   "outputs": [
    {
     "data": {
      "text/plain": [
       "{1, 2, 5, 8, 9}"
      ]
     },
     "execution_count": 37,
     "metadata": {},
     "output_type": "execute_result"
    }
   ],
   "source": [
    "# Set\n",
    "s={1, 2, 5, 8}\n",
    "s.add(9)\n",
    "s"
   ]
  },
  {
   "cell_type": "code",
   "execution_count": 36,
   "id": "1ac76c1a-cb3f-4bf7-beb4-04693e4fc3c4",
   "metadata": {},
   "outputs": [
    {
     "data": {
      "text/plain": [
       "13"
      ]
     },
     "execution_count": 36,
     "metadata": {},
     "output_type": "execute_result"
    }
   ],
   "source": [
    "#immutable:- immutable objects are those objects whose value can notbe changed\n",
    "# Example:- tupple, string\n",
    "#Q4 Discuss the types of different operators in python and provide examples of how they are used?\n",
    "# Ans. 1.Arithmatic Operators:-\n",
    "# Example:- +, -, *, /, %, **.\n",
    "a=5\n",
    "b=8\n",
    "a+b\n"
   ]
  },
  {
   "cell_type": "code",
   "execution_count": 6,
   "id": "a1ff3fd2-8018-4718-9568-1c0bcfefb000",
   "metadata": {},
   "outputs": [
    {
     "data": {
      "text/plain": [
       "False"
      ]
     },
     "execution_count": 6,
     "metadata": {},
     "output_type": "execute_result"
    }
   ],
   "source": [
    "# 2. Comparison Operators:-\n",
    "# Example:- <, >, >=, <=, ==, !=.\n",
    "a=10\n",
    "b=15\n",
    "a>b"
   ]
  },
  {
   "cell_type": "code",
   "execution_count": 7,
   "id": "13d715f5-4108-4eeb-bc9e-dea2cef16828",
   "metadata": {},
   "outputs": [
    {
     "data": {
      "text/plain": [
       "True"
      ]
     },
     "execution_count": 7,
     "metadata": {},
     "output_type": "execute_result"
    }
   ],
   "source": [
    "# 3. Logical Operators:-\n",
    "# Example:-\n",
    "# Logical and\n",
    "# Logical or\n",
    "# Logical not\n",
    "a=15\n",
    "b=20\n",
    "(a>10)and(b<30)"
   ]
  },
  {
   "cell_type": "code",
   "execution_count": 35,
   "id": "8539a9df-8b95-454b-8bab-bcb4edfe3b2a",
   "metadata": {},
   "outputs": [
    {
     "data": {
      "text/plain": [
       "False"
      ]
     },
     "execution_count": 35,
     "metadata": {},
     "output_type": "execute_result"
    }
   ],
   "source": [
    "a=50\n",
    "b=60\n",
    "(a>100)or(b<10)"
   ]
  },
  {
   "cell_type": "code",
   "execution_count": 9,
   "id": "07b0a491-49be-44bd-8a63-a440572dd70a",
   "metadata": {},
   "outputs": [
    {
     "data": {
      "text/plain": [
       "int"
      ]
     },
     "execution_count": 9,
     "metadata": {},
     "output_type": "execute_result"
    }
   ],
   "source": [
    "#Q5 Explain typecasting in python with example?\n",
    "# Ans. Type casting is the method to convert the python variable datatype into a certain data type.\n",
    "st= \"123\"\n",
    "result=int(st)\n",
    "result\n",
    "type(result)"
   ]
  },
  {
   "cell_type": "code",
   "execution_count": 34,
   "id": "e15bbd69-a5a2-432b-a930-a7eb460f06d4",
   "metadata": {},
   "outputs": [
    {
     "data": {
      "text/plain": [
       "float"
      ]
     },
     "execution_count": 34,
     "metadata": {},
     "output_type": "execute_result"
    }
   ],
   "source": [
    "inte= 123\n",
    "result= float(inte)\n",
    "result\n",
    "type(result)"
   ]
  },
  {
   "cell_type": "code",
   "execution_count": 11,
   "id": "ba993e87-b49f-4dd0-a922-8e50ccd9ad2d",
   "metadata": {},
   "outputs": [
    {
     "data": {
      "text/plain": [
       "int"
      ]
     },
     "execution_count": 11,
     "metadata": {},
     "output_type": "execute_result"
    }
   ],
   "source": [
    "fl= 56.6\n",
    "result= int(fl)\n",
    "result\n",
    "type(result)"
   ]
  },
  {
   "cell_type": "code",
   "execution_count": 12,
   "id": "cebb74c6-96f9-4fef-88db-2efe8cb31883",
   "metadata": {},
   "outputs": [
    {
     "data": {
      "text/plain": [
       "list"
      ]
     },
     "execution_count": 12,
     "metadata": {},
     "output_type": "execute_result"
    }
   ],
   "source": [
    "tup= (1, 2, 3, 5)\n",
    "result= list(tup)\n",
    "result\n",
    "type(result)"
   ]
  },
  {
   "cell_type": "code",
   "execution_count": 13,
   "id": "958c70ed-19d8-4d1a-b6c3-9f041e9e3d0b",
   "metadata": {},
   "outputs": [
    {
     "data": {
      "text/plain": [
       "tuple"
      ]
     },
     "execution_count": 13,
     "metadata": {},
     "output_type": "execute_result"
    }
   ],
   "source": [
    "li=[1,2,3,4,5]\n",
    "result= tuple(li)\n",
    "result\n",
    "type(result)"
   ]
  },
  {
   "cell_type": "code",
   "execution_count": 17,
   "id": "01d1a141-d81c-4295-a137-d9e2abe34f71",
   "metadata": {},
   "outputs": [
    {
     "name": "stdout",
     "output_type": "stream",
     "text": [
      "You are eligible for voting\n"
     ]
    }
   ],
   "source": [
    "#Q6 How conditional statement work in python? illustrate with example?\n",
    "# Ans. If the condition is true, the if block code is executed and if the condition is false,\n",
    "#the else block code is executed.\n",
    "# Types of conditional statement:-\n",
    "# 1. if statement\n",
    "# 2. if-else startElement\n",
    "# 3. if-elif else startElement\n",
    "# 4. nested if-else statement\n",
    "#Example of if statement\n",
    "\n",
    "age = 20\n",
    "if age >= 18:\n",
    " print(\"You are eligible for voting\")"
   ]
  },
  {
   "cell_type": "code",
   "execution_count": 18,
   "id": "45584cd1-0937-42f3-bb1e-dd34143e5bba",
   "metadata": {},
   "outputs": [
    {
     "name": "stdout",
     "output_type": "stream",
     "text": [
      "You are not eligible for vote\n"
     ]
    }
   ],
   "source": [
    "#Example of if-else statement\n",
    "age=17\n",
    "if age>=18:\n",
    " print(\"You are eligible for vote\")\n",
    "else:\n",
    " print(\"You are not eligible for vote\")"
   ]
  },
  {
   "cell_type": "code",
   "execution_count": 25,
   "id": "a0e594ee-80d6-4f1e-9fb9-a1708c92db37",
   "metadata": {},
   "outputs": [
    {
     "name": "stdout",
     "output_type": "stream",
     "text": [
      "Second Division\n"
     ]
    }
   ],
   "source": [
    "#Example of if-elif else statement\n",
    "grade= 5.5\n",
    "if grade>=7.0 and grade<=10.0:\n",
    " print(\"First Division\")\n",
    "elif grade>=5.0 and grade<=7.0:\n",
    " print(\"Second Division\")\n",
    "else:\n",
    " print(\"Third Division\")"
   ]
  },
  {
   "cell_type": "code",
   "execution_count": 31,
   "id": "450f7b11-1e3c-4ac5-9d7c-6c1a8f0030e7",
   "metadata": {},
   "outputs": [
    {
     "name": "stdout",
     "output_type": "stream",
     "text": [
      "The number is positive.\n"
     ]
    }
   ],
   "source": [
    "#nested if-else statement\n",
    "num = 5\n",
    "if num > 0:\n",
    "    print(\"The number is positive.\")\n",
    "else:\n",
    "    if num < 0:\n",
    "        print(\"The number is negative.\")\n",
    "    else:\n",
    "            print(\"The number is zero.\")"
   ]
  },
  {
   "cell_type": "code",
   "execution_count": 33,
   "id": "0244a3c7-0322-4c7c-bdc6-9bd7b2713cf4",
   "metadata": {},
   "outputs": [
    {
     "name": "stdout",
     "output_type": "stream",
     "text": [
      "1\n",
      "2\n",
      "3\n",
      "4\n"
     ]
    }
   ],
   "source": [
    "#Q7 Describe the different types of loops in Python and their use cases with examples.\n",
    "# Ans. Types of loop statement:-\n",
    "# 1. For loop statement.\n",
    "# 2. While loop statement.\n",
    "item=[1,2,3,4,5,6]\n",
    "for item in range(1, 5, 1):\n",
    " print(item)"
   ]
  },
  {
   "cell_type": "code",
   "execution_count": 38,
   "id": "e0f18142-3ea7-4106-b019-60e9e2f9c055",
   "metadata": {},
   "outputs": [
    {
     "name": "stdout",
     "output_type": "stream",
     "text": [
      "1\n",
      "2\n",
      "3\n",
      "4\n",
      "5\n"
     ]
    }
   ],
   "source": [
    "i = 1\n",
    "while i < 6:\n",
    " print(i)\n",
    " i += 1"
   ]
  },
  {
   "cell_type": "code",
   "execution_count": 42,
   "id": "ab911df1-ec51-48b1-93ce-3ac5acc4409d",
   "metadata": {},
   "outputs": [],
   "source": [
    "#Break and Continue Statement:- Break statement stops the entire process of the loop and Continue statement only stops the current iteration of the loop.\n",
    "# Example of break statement:-\n",
    "item=[1,2,3,4,5,6,7,8,9]\n",
    "for item in range(1,10,1):\n",
    "    if item%2==0:\n",
    "        break\n",
    "        print(item)"
   ]
  },
  {
   "cell_type": "code",
   "execution_count": 45,
   "id": "7390a3b8-ee98-4057-80e3-89de3031792c",
   "metadata": {},
   "outputs": [],
   "source": [
    "# Example of continue statement:-\n",
    "item=[1,2,3,4,5,6,7,8,9]\n",
    "for item in range(1,10,1):\n",
    "    if item%2==0:\n",
    "        continue\n",
    "        print(item)"
   ]
  },
  {
   "cell_type": "code",
   "execution_count": null,
   "id": "18a17099-d378-4770-9219-edcc43dc17a5",
   "metadata": {},
   "outputs": [],
   "source": []
  },
  {
   "cell_type": "code",
   "execution_count": null,
   "id": "a82f2190-9203-4079-a9d9-b60b9053ac2f",
   "metadata": {},
   "outputs": [],
   "source": []
  }
 ],
 "metadata": {
  "kernelspec": {
   "display_name": "Python 3 (ipykernel)",
   "language": "python",
   "name": "python3"
  },
  "language_info": {
   "codemirror_mode": {
    "name": "ipython",
    "version": 3
   },
   "file_extension": ".py",
   "mimetype": "text/x-python",
   "name": "python",
   "nbconvert_exporter": "python",
   "pygments_lexer": "ipython3",
   "version": "3.10.8"
  }
 },
 "nbformat": 4,
 "nbformat_minor": 5
}
